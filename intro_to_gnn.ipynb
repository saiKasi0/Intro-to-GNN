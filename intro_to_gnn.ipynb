{
 "cells": [
  {
   "cell_type": "code",
   "execution_count": 45,
   "metadata": {},
   "outputs": [],
   "source": [
    "import numpy as np;\n",
    "import tensorflow as tf\n",
    "import spektral\n"
   ]
  },
  {
   "cell_type": "code",
   "execution_count": 46,
   "metadata": {},
   "outputs": [],
   "source": [
    "cora_dataset = spektral.datasets.citation.Citation(name='cora')\n",
    "test_mask = cora_dataset.mask_te\n",
    "train_mask = cora_dataset.mask_tr\n",
    "val_mask = cora_dataset.mask_va\n",
    "graph = cora_dataset.graphs[0]\n",
    "features = graph.x\n",
    "adj = graph.a\n",
    "labels = graph.y"
   ]
  },
  {
   "cell_type": "code",
   "execution_count": 47,
   "metadata": {},
   "outputs": [
    {
     "name": "stdout",
     "output_type": "stream",
     "text": [
      "(2708, 1433)\n",
      "(2708, 2708)\n",
      "(2708, 7)\n",
      "140\n",
      "500\n",
      "1000\n"
     ]
    }
   ],
   "source": [
    "adj =  adj + np.eye(adj.shape[0])\n",
    "adj = tf.cast(adj, dtype=tf.float32)\n",
    "\n",
    "\n",
    "print(features.shape)\n",
    "print(adj.shape)\n",
    "print(labels.shape)\n",
    "\n",
    "print(np.sum(train_mask))\n",
    "print(np.sum(val_mask))\n",
    "print(np.sum(test_mask))"
   ]
  },
  {
   "cell_type": "code",
   "execution_count": 48,
   "metadata": {},
   "outputs": [],
   "source": [
    "def masked_softmax_cross_entropy(logits, labels, mask):\n",
    "    loss = tf.nn.softmax_cross_entropy_with_logits(logits=logits, labels=labels)\n",
    "    mask = tf.cast(mask, dtype=tf.float32)\n",
    "    mask /= tf.reduce_mean(mask)\n",
    "    loss *= mask\n",
    "    return tf.reduce_mean(loss)\n",
    "\n",
    "def masked_accuracy(logits, labels, mask):\n",
    "    correct_prediction = tf.equal(tf.argmax(logits, 1), tf.argmax(labels, 1))\n",
    "    accuracy_all = tf.cast(correct_prediction, dtype=tf.float32)\n",
    "    mask = tf.cast(mask, dtype=tf.float32)\n",
    "    mask /= tf.reduce_mean(mask)\n",
    "    accuracy_all *= mask\n",
    "    return tf.reduce_mean(accuracy_all)"
   ]
  },
  {
   "cell_type": "code",
   "execution_count": 49,
   "metadata": {},
   "outputs": [],
   "source": [
    "def gnn(fts, adj, transform, activation):\n",
    "    seq_fts = transform(fts)\n",
    "    # seq_fts = tf.cast(seq_fts, dtype=tf.float32)\n",
    "\n",
    "    ret_fts = tf.matmul(adj, seq_fts)\n",
    "    return activation(ret_fts)"
   ]
  },
  {
   "cell_type": "code",
   "execution_count": 50,
   "metadata": {},
   "outputs": [],
   "source": [
    "def train_cora(fts, adj, gnn_fn, units, epochs, lr):\n",
    "    lyr_1 = tf.keras.layers.Dense(units)\n",
    "    lyr_2 = tf.keras.layers.Dense(7)\n",
    "\n",
    "    def cora_gnn(fts, adj):\n",
    "        hidden = gnn_fn(fts, adj, lyr_1, tf.nn.relu)\n",
    "        logits = gnn_fn(hidden, adj, lyr_2, tf.identity)\n",
    "        return logits\n",
    "    \n",
    "    optimizer = tf.keras.optimizers.legacy.Adam(learning_rate=lr)\n",
    "\n",
    "    best_accuracy = 0.0\n",
    "    for ep in range(epochs+1):\n",
    "        with tf.GradientTape() as t:\n",
    "            logits = cora_gnn(fts, adj)\n",
    "            loss = masked_softmax_cross_entropy(logits,labels,train_mask)\n",
    "        \n",
    "        variables = t.watched_variables()\n",
    "        grads = t.gradient(loss, variables)\n",
    "        optimizer.apply_gradients(zip(grads,variables))\n",
    "\n",
    "        logits = cora_gnn(fts,adj)\n",
    "        val_accuracy = masked_accuracy(logits, labels, val_mask)\n",
    "        test_accuracy = masked_accuracy(logits, labels, test_mask)\n",
    "\n",
    "        if (val_accuracy > best_accuracy):\n",
    "            best_accuracy = val_accuracy\n",
    "            #should do model saving here\n",
    "            print('Epoch', ep, '| Training loss:', loss.numpy(), '| Val accuracy:', val_accuracy.numpy (), '| Test accuracy:', test_accuracy.numpy())"
   ]
  },
  {
   "cell_type": "code",
   "execution_count": 51,
   "metadata": {},
   "outputs": [
    {
     "name": "stdout",
     "output_type": "stream",
     "text": [
      "Epoch 0 | Training loss: 4.7426767 | Val accuracy: 0.102 | Test accuracy: 0.11799999\n",
      "Epoch 1 | Training loss: 5.729286 | Val accuracy: 0.44599998 | Test accuracy: 0.464\n",
      "Epoch 2 | Training loss: 1.5892051 | Val accuracy: 0.454 | Test accuracy: 0.48400006\n",
      "Epoch 3 | Training loss: 1.5592555 | Val accuracy: 0.57 | Test accuracy: 0.61800003\n",
      "Epoch 4 | Training loss: 1.0813582 | Val accuracy: 0.642 | Test accuracy: 0.658\n",
      "Epoch 5 | Training loss: 0.80808634 | Val accuracy: 0.678 | Test accuracy: 0.698\n",
      "Epoch 6 | Training loss: 0.61906916 | Val accuracy: 0.69 | Test accuracy: 0.719\n",
      "Epoch 7 | Training loss: 0.42336544 | Val accuracy: 0.696 | Test accuracy: 0.709\n",
      "Epoch 10 | Training loss: 0.21703258 | Val accuracy: 0.69600004 | Test accuracy: 0.717\n",
      "Epoch 12 | Training loss: 0.15955687 | Val accuracy: 0.6999999 | Test accuracy: 0.713\n",
      "Epoch 31 | Training loss: 0.02082393 | Val accuracy: 0.7 | Test accuracy: 0.721\n",
      "Epoch 32 | Training loss: 0.019563328 | Val accuracy: 0.70199996 | Test accuracy: 0.721\n",
      "Epoch 33 | Training loss: 0.018445265 | Val accuracy: 0.706 | Test accuracy: 0.718\n",
      "Epoch 35 | Training loss: 0.016517468 | Val accuracy: 0.71 | Test accuracy: 0.72\n",
      "Epoch 42 | Training loss: 0.011315434 | Val accuracy: 0.71199995 | Test accuracy: 0.723\n",
      "Epoch 43 | Training loss: 0.01062352 | Val accuracy: 0.714 | Test accuracy: 0.723\n",
      "Epoch 45 | Training loss: 0.009314217 | Val accuracy: 0.718 | Test accuracy: 0.723\n",
      "Epoch 49 | Training loss: 0.007020798 | Val accuracy: 0.72 | Test accuracy: 0.723\n",
      "Epoch 51 | Training loss: 0.006138095 | Val accuracy: 0.72400004 | Test accuracy: 0.723\n",
      "Epoch 58 | Training loss: 0.0040042424 | Val accuracy: 0.72599995 | Test accuracy: 0.726\n",
      "Epoch 59 | Training loss: 0.0037917611 | Val accuracy: 0.7279999 | Test accuracy: 0.726\n",
      "Epoch 60 | Training loss: 0.003596343 | Val accuracy: 0.72999996 | Test accuracy: 0.727\n"
     ]
    }
   ],
   "source": [
    "# Raw adj matrix -> sum-pooling -> not very scalable\n",
    "train_cora(features, adj, gnn ,32, 200, 0.01)"
   ]
  },
  {
   "cell_type": "code",
   "execution_count": 52,
   "metadata": {},
   "outputs": [
    {
     "name": "stdout",
     "output_type": "stream",
     "text": [
      "Epoch 0 | Training loss: 1.9526836 | Val accuracy: 0.262 | Test accuracy: 0.25399998\n",
      "Epoch 1 | Training loss: 1.6843466 | Val accuracy: 0.34999996 | Test accuracy: 0.37399998\n",
      "Epoch 2 | Training loss: 1.4512416 | Val accuracy: 0.41 | Test accuracy: 0.41400003\n",
      "Epoch 3 | Training loss: 1.206158 | Val accuracy: 0.444 | Test accuracy: 0.44799998\n",
      "Epoch 4 | Training loss: 0.9612844 | Val accuracy: 0.47 | Test accuracy: 0.483\n",
      "Epoch 5 | Training loss: 0.7374072 | Val accuracy: 0.50200003 | Test accuracy: 0.496\n",
      "Epoch 6 | Training loss: 0.54875 | Val accuracy: 0.51199996 | Test accuracy: 0.5\n",
      "Epoch 7 | Training loss: 0.40108284 | Val accuracy: 0.516 | Test accuracy: 0.508\n",
      "Epoch 8 | Training loss: 0.29209167 | Val accuracy: 0.524 | Test accuracy: 0.51600003\n",
      "Epoch 9 | Training loss: 0.21502826 | Val accuracy: 0.532 | Test accuracy: 0.52000004\n",
      "Epoch 10 | Training loss: 0.1612534 | Val accuracy: 0.54599994 | Test accuracy: 0.523\n",
      "Epoch 11 | Training loss: 0.123685636 | Val accuracy: 0.546 | Test accuracy: 0.518\n"
     ]
    }
   ],
   "source": [
    "# Point wise MLP: passing identity matrix instead of adjacency matrix to perceive if there is benefit to adjacency matrix \n",
    "# -> there is a benefit\n",
    "train_cora(features, tf.eye(adj.shape[0]), gnn, 32, 200, 0.01)"
   ]
  },
  {
   "cell_type": "code",
   "execution_count": 53,
   "metadata": {},
   "outputs": [
    {
     "name": "stdout",
     "output_type": "stream",
     "text": [
      "Epoch 0 | Training loss: 1.9567463 | Val accuracy: 0.43199998 | Test accuracy: 0.425\n",
      "Epoch 1 | Training loss: 1.7688234 | Val accuracy: 0.54600006 | Test accuracy: 0.563\n",
      "Epoch 2 | Training loss: 1.5519285 | Val accuracy: 0.62399995 | Test accuracy: 0.65099996\n",
      "Epoch 3 | Training loss: 1.3180251 | Val accuracy: 0.67599994 | Test accuracy: 0.716\n",
      "Epoch 4 | Training loss: 1.0999073 | Val accuracy: 0.708 | Test accuracy: 0.7519999\n",
      "Epoch 5 | Training loss: 0.8997514 | Val accuracy: 0.73999995 | Test accuracy: 0.78299993\n",
      "Epoch 6 | Training loss: 0.72407496 | Val accuracy: 0.758 | Test accuracy: 0.79899985\n",
      "Epoch 7 | Training loss: 0.5763984 | Val accuracy: 0.7719999 | Test accuracy: 0.80499977\n",
      "Epoch 8 | Training loss: 0.45550808 | Val accuracy: 0.7779999 | Test accuracy: 0.8029998\n",
      "Epoch 9 | Training loss: 0.35778803 | Val accuracy: 0.7799999 | Test accuracy: 0.80899984\n"
     ]
    }
   ],
   "source": [
    "# Mean Pooling -> Normalized Propagation role -> mitigates exploding/imploding gradient issue\n",
    "deg =  tf.reduce_sum(adj, axis=-1)\n",
    "train_cora(features, adj / deg, gnn, 32, 200 , 0.01)"
   ]
  },
  {
   "cell_type": "code",
   "execution_count": 55,
   "metadata": {},
   "outputs": [
    {
     "name": "stdout",
     "output_type": "stream",
     "text": [
      "Epoch 0 | Training loss: 1.9516594 | Val accuracy: 0.592 | Test accuracy: 0.62299997\n",
      "Epoch 1 | Training loss: 1.7500453 | Val accuracy: 0.702 | Test accuracy: 0.729\n",
      "Epoch 2 | Training loss: 1.5178025 | Val accuracy: 0.74399996 | Test accuracy: 0.7799999\n",
      "Epoch 3 | Training loss: 1.2690847 | Val accuracy: 0.76000005 | Test accuracy: 0.798\n",
      "Epoch 4 | Training loss: 1.0371318 | Val accuracy: 0.778 | Test accuracy: 0.8099999\n",
      "Epoch 5 | Training loss: 0.8318434 | Val accuracy: 0.7879999 | Test accuracy: 0.81299984\n",
      "Epoch 6 | Training loss: 0.65540075 | Val accuracy: 0.78999996 | Test accuracy: 0.80499977\n",
      "Epoch 7 | Training loss: 0.5087329 | Val accuracy: 0.79 | Test accuracy: 0.79899985\n"
     ]
    }
   ],
   "source": [
    "# Graph Convolution\n",
    "norm_deg = tf.linalg.diag(1.0 / tf.sqrt(deg))\n",
    "norm_adj = tf.matmul(norm_deg, tf.matmul(adj, norm_deg))\n",
    "train_cora(features, norm_adj, gnn, 32, 200, 0.01)"
   ]
  }
 ],
 "metadata": {
  "kernelspec": {
   "display_name": "Python 3",
   "language": "python",
   "name": "python3"
  },
  "language_info": {
   "codemirror_mode": {
    "name": "ipython",
    "version": 3
   },
   "file_extension": ".py",
   "mimetype": "text/x-python",
   "name": "python",
   "nbconvert_exporter": "python",
   "pygments_lexer": "ipython3",
   "version": "3.9.9"
  },
  "orig_nbformat": 4
 },
 "nbformat": 4,
 "nbformat_minor": 2
}
